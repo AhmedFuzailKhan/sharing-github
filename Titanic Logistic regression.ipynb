{
 "cells": [
  {
   "cell_type": "code",
   "execution_count": 71,
   "id": "a98a6f81",
   "metadata": {},
   "outputs": [],
   "source": [
    "import numpy as np\n",
    "import pandas as pd\n",
    "import matplotlib.pyplot as plt\n",
    "import seaborn as sns\n",
    "%matplotlib inline"
   ]
  },
  {
   "cell_type": "code",
   "execution_count": 72,
   "id": "0a45f7d4",
   "metadata": {},
   "outputs": [],
   "source": [
    "from sklearn.linear_model import LogisticRegression\n",
    "from sklearn.model_selection import train_test_split\n",
    "\n",
    "from sklearn.metrics import confusion_matrix\n",
    "from sklearn.metrics import classification_report\n",
    "from sklearn.metrics import accuracy_score\n",
    "from sklearn.metrics import precision_score\n",
    "from sklearn.metrics import recall_score\n",
    "from sklearn.metrics import f1_score\n",
    "from sklearn import metrics"
   ]
  },
  {
   "cell_type": "code",
   "execution_count": 146,
   "id": "ef9c5ce6",
   "metadata": {},
   "outputs": [],
   "source": [
    "df_train = pd.read_csv('train.csv')"
   ]
  },
  {
   "cell_type": "code",
   "execution_count": 147,
   "id": "f3808f92",
   "metadata": {},
   "outputs": [
    {
     "data": {
      "text/plain": [
       "(891, 12)"
      ]
     },
     "execution_count": 147,
     "metadata": {},
     "output_type": "execute_result"
    }
   ],
   "source": [
    "df_train.shape"
   ]
  },
  {
   "cell_type": "code",
   "execution_count": 148,
   "id": "4978a513",
   "metadata": {},
   "outputs": [
    {
     "data": {
      "text/html": [
       "<div>\n",
       "<style scoped>\n",
       "    .dataframe tbody tr th:only-of-type {\n",
       "        vertical-align: middle;\n",
       "    }\n",
       "\n",
       "    .dataframe tbody tr th {\n",
       "        vertical-align: top;\n",
       "    }\n",
       "\n",
       "    .dataframe thead th {\n",
       "        text-align: right;\n",
       "    }\n",
       "</style>\n",
       "<table border=\"1\" class=\"dataframe\">\n",
       "  <thead>\n",
       "    <tr style=\"text-align: right;\">\n",
       "      <th></th>\n",
       "      <th>PassengerId</th>\n",
       "      <th>Survived</th>\n",
       "      <th>Pclass</th>\n",
       "      <th>Name</th>\n",
       "      <th>Sex</th>\n",
       "      <th>Age</th>\n",
       "      <th>SibSp</th>\n",
       "      <th>Parch</th>\n",
       "      <th>Ticket</th>\n",
       "      <th>Fare</th>\n",
       "      <th>Cabin</th>\n",
       "      <th>Embarked</th>\n",
       "    </tr>\n",
       "  </thead>\n",
       "  <tbody>\n",
       "    <tr>\n",
       "      <th>0</th>\n",
       "      <td>1</td>\n",
       "      <td>0</td>\n",
       "      <td>3</td>\n",
       "      <td>Braund, Mr. Owen Harris</td>\n",
       "      <td>male</td>\n",
       "      <td>22.0</td>\n",
       "      <td>1</td>\n",
       "      <td>0</td>\n",
       "      <td>A/5 21171</td>\n",
       "      <td>7.2500</td>\n",
       "      <td>NaN</td>\n",
       "      <td>S</td>\n",
       "    </tr>\n",
       "    <tr>\n",
       "      <th>1</th>\n",
       "      <td>2</td>\n",
       "      <td>1</td>\n",
       "      <td>1</td>\n",
       "      <td>Cumings, Mrs. John Bradley (Florence Briggs Th...</td>\n",
       "      <td>female</td>\n",
       "      <td>38.0</td>\n",
       "      <td>1</td>\n",
       "      <td>0</td>\n",
       "      <td>PC 17599</td>\n",
       "      <td>71.2833</td>\n",
       "      <td>C85</td>\n",
       "      <td>C</td>\n",
       "    </tr>\n",
       "    <tr>\n",
       "      <th>2</th>\n",
       "      <td>3</td>\n",
       "      <td>1</td>\n",
       "      <td>3</td>\n",
       "      <td>Heikkinen, Miss. Laina</td>\n",
       "      <td>female</td>\n",
       "      <td>26.0</td>\n",
       "      <td>0</td>\n",
       "      <td>0</td>\n",
       "      <td>STON/O2. 3101282</td>\n",
       "      <td>7.9250</td>\n",
       "      <td>NaN</td>\n",
       "      <td>S</td>\n",
       "    </tr>\n",
       "    <tr>\n",
       "      <th>3</th>\n",
       "      <td>4</td>\n",
       "      <td>1</td>\n",
       "      <td>1</td>\n",
       "      <td>Futrelle, Mrs. Jacques Heath (Lily May Peel)</td>\n",
       "      <td>female</td>\n",
       "      <td>35.0</td>\n",
       "      <td>1</td>\n",
       "      <td>0</td>\n",
       "      <td>113803</td>\n",
       "      <td>53.1000</td>\n",
       "      <td>C123</td>\n",
       "      <td>S</td>\n",
       "    </tr>\n",
       "    <tr>\n",
       "      <th>4</th>\n",
       "      <td>5</td>\n",
       "      <td>0</td>\n",
       "      <td>3</td>\n",
       "      <td>Allen, Mr. William Henry</td>\n",
       "      <td>male</td>\n",
       "      <td>35.0</td>\n",
       "      <td>0</td>\n",
       "      <td>0</td>\n",
       "      <td>373450</td>\n",
       "      <td>8.0500</td>\n",
       "      <td>NaN</td>\n",
       "      <td>S</td>\n",
       "    </tr>\n",
       "  </tbody>\n",
       "</table>\n",
       "</div>"
      ],
      "text/plain": [
       "   PassengerId  Survived  Pclass  \\\n",
       "0            1         0       3   \n",
       "1            2         1       1   \n",
       "2            3         1       3   \n",
       "3            4         1       1   \n",
       "4            5         0       3   \n",
       "\n",
       "                                                Name     Sex   Age  SibSp  \\\n",
       "0                            Braund, Mr. Owen Harris    male  22.0      1   \n",
       "1  Cumings, Mrs. John Bradley (Florence Briggs Th...  female  38.0      1   \n",
       "2                             Heikkinen, Miss. Laina  female  26.0      0   \n",
       "3       Futrelle, Mrs. Jacques Heath (Lily May Peel)  female  35.0      1   \n",
       "4                           Allen, Mr. William Henry    male  35.0      0   \n",
       "\n",
       "   Parch            Ticket     Fare Cabin Embarked  \n",
       "0      0         A/5 21171   7.2500   NaN        S  \n",
       "1      0          PC 17599  71.2833   C85        C  \n",
       "2      0  STON/O2. 3101282   7.9250   NaN        S  \n",
       "3      0            113803  53.1000  C123        S  \n",
       "4      0            373450   8.0500   NaN        S  "
      ]
     },
     "execution_count": 148,
     "metadata": {},
     "output_type": "execute_result"
    }
   ],
   "source": [
    "df_train.head()"
   ]
  },
  {
   "cell_type": "code",
   "execution_count": 149,
   "id": "462cba7a",
   "metadata": {},
   "outputs": [
    {
     "data": {
      "text/plain": [
       "0    549\n",
       "1    342\n",
       "Name: Survived, dtype: int64"
      ]
     },
     "execution_count": 149,
     "metadata": {},
     "output_type": "execute_result"
    }
   ],
   "source": [
    "df_train.Survived.value_counts()"
   ]
  },
  {
   "cell_type": "code",
   "execution_count": 150,
   "id": "6882b7e4",
   "metadata": {},
   "outputs": [
    {
     "data": {
      "text/plain": [
       "male      577\n",
       "female    314\n",
       "Name: Sex, dtype: int64"
      ]
     },
     "execution_count": 150,
     "metadata": {},
     "output_type": "execute_result"
    }
   ],
   "source": [
    "df_train.Sex.value_counts()"
   ]
  },
  {
   "cell_type": "code",
   "execution_count": 151,
   "id": "d2be0b74",
   "metadata": {},
   "outputs": [
    {
     "data": {
      "text/plain": [
       "S    644\n",
       "C    168\n",
       "Q     77\n",
       "Name: Embarked, dtype: int64"
      ]
     },
     "execution_count": 151,
     "metadata": {},
     "output_type": "execute_result"
    }
   ],
   "source": [
    "df_train.Embarked.value_counts()"
   ]
  },
  {
   "cell_type": "code",
   "execution_count": 152,
   "id": "0d36a6c6",
   "metadata": {},
   "outputs": [
    {
     "data": {
      "text/plain": [
       "PassengerId      0\n",
       "Survived         0\n",
       "Pclass           0\n",
       "Name             0\n",
       "Sex              0\n",
       "Age            177\n",
       "SibSp            0\n",
       "Parch            0\n",
       "Ticket           0\n",
       "Fare             0\n",
       "Cabin          687\n",
       "Embarked         2\n",
       "dtype: int64"
      ]
     },
     "execution_count": 152,
     "metadata": {},
     "output_type": "execute_result"
    }
   ],
   "source": [
    "df_train.isna().sum()"
   ]
  },
  {
   "cell_type": "code",
   "execution_count": 153,
   "id": "01848250",
   "metadata": {},
   "outputs": [],
   "source": [
    "df_train = df_train.drop(['PassengerId', 'Cabin', 'Name', 'Ticket'], axis =1)"
   ]
  },
  {
   "cell_type": "code",
   "execution_count": 154,
   "id": "7620d560",
   "metadata": {},
   "outputs": [
    {
     "data": {
      "text/plain": [
       "Survived      0\n",
       "Pclass        0\n",
       "Sex           0\n",
       "Age         177\n",
       "SibSp         0\n",
       "Parch         0\n",
       "Fare          0\n",
       "Embarked      2\n",
       "dtype: int64"
      ]
     },
     "execution_count": 154,
     "metadata": {},
     "output_type": "execute_result"
    }
   ],
   "source": [
    "df_train.isna().sum()"
   ]
  },
  {
   "cell_type": "code",
   "execution_count": 155,
   "id": "c0bee53d",
   "metadata": {},
   "outputs": [
    {
     "data": {
      "text/html": [
       "<div>\n",
       "<style scoped>\n",
       "    .dataframe tbody tr th:only-of-type {\n",
       "        vertical-align: middle;\n",
       "    }\n",
       "\n",
       "    .dataframe tbody tr th {\n",
       "        vertical-align: top;\n",
       "    }\n",
       "\n",
       "    .dataframe thead th {\n",
       "        text-align: right;\n",
       "    }\n",
       "</style>\n",
       "<table border=\"1\" class=\"dataframe\">\n",
       "  <thead>\n",
       "    <tr style=\"text-align: right;\">\n",
       "      <th></th>\n",
       "      <th>Survived</th>\n",
       "      <th>Pclass</th>\n",
       "      <th>Sex</th>\n",
       "      <th>Age</th>\n",
       "      <th>SibSp</th>\n",
       "      <th>Parch</th>\n",
       "      <th>Fare</th>\n",
       "      <th>Embarked</th>\n",
       "    </tr>\n",
       "  </thead>\n",
       "  <tbody>\n",
       "    <tr>\n",
       "      <th>0</th>\n",
       "      <td>0</td>\n",
       "      <td>3</td>\n",
       "      <td>male</td>\n",
       "      <td>22.0</td>\n",
       "      <td>1</td>\n",
       "      <td>0</td>\n",
       "      <td>7.2500</td>\n",
       "      <td>S</td>\n",
       "    </tr>\n",
       "    <tr>\n",
       "      <th>1</th>\n",
       "      <td>1</td>\n",
       "      <td>1</td>\n",
       "      <td>female</td>\n",
       "      <td>38.0</td>\n",
       "      <td>1</td>\n",
       "      <td>0</td>\n",
       "      <td>71.2833</td>\n",
       "      <td>C</td>\n",
       "    </tr>\n",
       "    <tr>\n",
       "      <th>2</th>\n",
       "      <td>1</td>\n",
       "      <td>3</td>\n",
       "      <td>female</td>\n",
       "      <td>26.0</td>\n",
       "      <td>0</td>\n",
       "      <td>0</td>\n",
       "      <td>7.9250</td>\n",
       "      <td>S</td>\n",
       "    </tr>\n",
       "    <tr>\n",
       "      <th>3</th>\n",
       "      <td>1</td>\n",
       "      <td>1</td>\n",
       "      <td>female</td>\n",
       "      <td>35.0</td>\n",
       "      <td>1</td>\n",
       "      <td>0</td>\n",
       "      <td>53.1000</td>\n",
       "      <td>S</td>\n",
       "    </tr>\n",
       "    <tr>\n",
       "      <th>4</th>\n",
       "      <td>0</td>\n",
       "      <td>3</td>\n",
       "      <td>male</td>\n",
       "      <td>35.0</td>\n",
       "      <td>0</td>\n",
       "      <td>0</td>\n",
       "      <td>8.0500</td>\n",
       "      <td>S</td>\n",
       "    </tr>\n",
       "  </tbody>\n",
       "</table>\n",
       "</div>"
      ],
      "text/plain": [
       "   Survived  Pclass     Sex   Age  SibSp  Parch     Fare Embarked\n",
       "0         0       3    male  22.0      1      0   7.2500        S\n",
       "1         1       1  female  38.0      1      0  71.2833        C\n",
       "2         1       3  female  26.0      0      0   7.9250        S\n",
       "3         1       1  female  35.0      1      0  53.1000        S\n",
       "4         0       3    male  35.0      0      0   8.0500        S"
      ]
     },
     "execution_count": 155,
     "metadata": {},
     "output_type": "execute_result"
    }
   ],
   "source": [
    "df_train.head()"
   ]
  },
  {
   "cell_type": "code",
   "execution_count": 156,
   "id": "c7c7a2ca",
   "metadata": {},
   "outputs": [
    {
     "data": {
      "text/plain": [
       "28.0"
      ]
     },
     "execution_count": 156,
     "metadata": {},
     "output_type": "execute_result"
    }
   ],
   "source": [
    "df_train.Age.median()  "
   ]
  },
  {
   "cell_type": "code",
   "execution_count": 157,
   "id": "b656919a",
   "metadata": {},
   "outputs": [],
   "source": [
    "age_class = df_train.groupby(['Pclass']).mean()['Age'].values"
   ]
  },
  {
   "cell_type": "code",
   "execution_count": 158,
   "id": "6cd93d9a",
   "metadata": {},
   "outputs": [
    {
     "data": {
      "text/plain": [
       "array([38.23344086, 29.87763006, 25.14061972])"
      ]
     },
     "execution_count": 158,
     "metadata": {},
     "output_type": "execute_result"
    }
   ],
   "source": [
    "age_class"
   ]
  },
  {
   "cell_type": "code",
   "execution_count": 159,
   "id": "fb0286af",
   "metadata": {},
   "outputs": [],
   "source": [
    "def age_approx(cols):\n",
    "    Age = cols[0]\n",
    "    Pclass = cols[1]\n",
    "    if pd.isnull(Age):\n",
    "        if Pclass == 1:\n",
    "            return age_class[0]\n",
    "        if Pclass == 2:\n",
    "            return age_class[1]\n",
    "        if Pclass == 3:\n",
    "            return age_class[2]\n",
    "    else:\n",
    "        return Age\n",
    "    "
   ]
  },
  {
   "cell_type": "code",
   "execution_count": 160,
   "id": "800ef3fb",
   "metadata": {},
   "outputs": [],
   "source": [
    "df_train['Age'] = df_train[['Age','Pclass']].apply(age_approx,axis=1)"
   ]
  },
  {
   "cell_type": "code",
   "execution_count": 161,
   "id": "1a422866",
   "metadata": {},
   "outputs": [],
   "source": [
    "#df_train['Embarked'] = df_train['Embarked'].fillna(str((df_train['Embarked'].mode().values)[0]))"
   ]
  },
  {
   "cell_type": "code",
   "execution_count": 162,
   "id": "eb79510d",
   "metadata": {},
   "outputs": [
    {
     "data": {
      "text/plain": [
       "(891, 8)"
      ]
     },
     "execution_count": 162,
     "metadata": {},
     "output_type": "execute_result"
    }
   ],
   "source": [
    "df_train.shape"
   ]
  },
  {
   "cell_type": "code",
   "execution_count": 163,
   "id": "14c62e09",
   "metadata": {},
   "outputs": [
    {
     "data": {
      "text/plain": [
       "Survived    0\n",
       "Pclass      0\n",
       "Sex         0\n",
       "Age         0\n",
       "SibSp       0\n",
       "Parch       0\n",
       "Fare        0\n",
       "Embarked    2\n",
       "dtype: int64"
      ]
     },
     "execution_count": 163,
     "metadata": {},
     "output_type": "execute_result"
    }
   ],
   "source": [
    "df_train.isna().sum()"
   ]
  },
  {
   "cell_type": "code",
   "execution_count": 164,
   "id": "6c0c97f1",
   "metadata": {},
   "outputs": [],
   "source": [
    "df_train.dropna(inplace=True)"
   ]
  },
  {
   "cell_type": "code",
   "execution_count": 168,
   "id": "5c7a80f2",
   "metadata": {},
   "outputs": [
    {
     "data": {
      "text/html": [
       "<div>\n",
       "<style scoped>\n",
       "    .dataframe tbody tr th:only-of-type {\n",
       "        vertical-align: middle;\n",
       "    }\n",
       "\n",
       "    .dataframe tbody tr th {\n",
       "        vertical-align: top;\n",
       "    }\n",
       "\n",
       "    .dataframe thead th {\n",
       "        text-align: right;\n",
       "    }\n",
       "</style>\n",
       "<table border=\"1\" class=\"dataframe\">\n",
       "  <thead>\n",
       "    <tr style=\"text-align: right;\">\n",
       "      <th></th>\n",
       "      <th>Survived</th>\n",
       "      <th>Pclass</th>\n",
       "      <th>Sex</th>\n",
       "      <th>Age</th>\n",
       "      <th>SibSp</th>\n",
       "      <th>Parch</th>\n",
       "      <th>Fare</th>\n",
       "      <th>Embarked</th>\n",
       "    </tr>\n",
       "  </thead>\n",
       "  <tbody>\n",
       "    <tr>\n",
       "      <th>0</th>\n",
       "      <td>0</td>\n",
       "      <td>3</td>\n",
       "      <td>male</td>\n",
       "      <td>22.0</td>\n",
       "      <td>1</td>\n",
       "      <td>0</td>\n",
       "      <td>7.2500</td>\n",
       "      <td>S</td>\n",
       "    </tr>\n",
       "    <tr>\n",
       "      <th>1</th>\n",
       "      <td>1</td>\n",
       "      <td>1</td>\n",
       "      <td>female</td>\n",
       "      <td>38.0</td>\n",
       "      <td>1</td>\n",
       "      <td>0</td>\n",
       "      <td>71.2833</td>\n",
       "      <td>C</td>\n",
       "    </tr>\n",
       "    <tr>\n",
       "      <th>2</th>\n",
       "      <td>1</td>\n",
       "      <td>3</td>\n",
       "      <td>female</td>\n",
       "      <td>26.0</td>\n",
       "      <td>0</td>\n",
       "      <td>0</td>\n",
       "      <td>7.9250</td>\n",
       "      <td>S</td>\n",
       "    </tr>\n",
       "    <tr>\n",
       "      <th>3</th>\n",
       "      <td>1</td>\n",
       "      <td>1</td>\n",
       "      <td>female</td>\n",
       "      <td>35.0</td>\n",
       "      <td>1</td>\n",
       "      <td>0</td>\n",
       "      <td>53.1000</td>\n",
       "      <td>S</td>\n",
       "    </tr>\n",
       "    <tr>\n",
       "      <th>4</th>\n",
       "      <td>0</td>\n",
       "      <td>3</td>\n",
       "      <td>male</td>\n",
       "      <td>35.0</td>\n",
       "      <td>0</td>\n",
       "      <td>0</td>\n",
       "      <td>8.0500</td>\n",
       "      <td>S</td>\n",
       "    </tr>\n",
       "  </tbody>\n",
       "</table>\n",
       "</div>"
      ],
      "text/plain": [
       "   Survived  Pclass     Sex   Age  SibSp  Parch     Fare Embarked\n",
       "0         0       3    male  22.0      1      0   7.2500        S\n",
       "1         1       1  female  38.0      1      0  71.2833        C\n",
       "2         1       3  female  26.0      0      0   7.9250        S\n",
       "3         1       1  female  35.0      1      0  53.1000        S\n",
       "4         0       3    male  35.0      0      0   8.0500        S"
      ]
     },
     "execution_count": 168,
     "metadata": {},
     "output_type": "execute_result"
    }
   ],
   "source": [
    "df_train.head()"
   ]
  },
  {
   "cell_type": "code",
   "execution_count": 169,
   "id": "9b22c170",
   "metadata": {
    "scrolled": true
   },
   "outputs": [],
   "source": [
    "#df_train['Sex_dummy'] = pd.get_dummies(df_train['Sex'], prefix='sex', drop_first=True )"
   ]
  },
  {
   "cell_type": "code",
   "execution_count": 170,
   "id": "a63b8a07",
   "metadata": {},
   "outputs": [],
   "source": [
    "df_train_dummied = pd.get_dummies(df_train, columns=['Sex','Embarked'])"
   ]
  },
  {
   "cell_type": "code",
   "execution_count": 171,
   "id": "91b0f8b2",
   "metadata": {},
   "outputs": [
    {
     "data": {
      "text/html": [
       "<div>\n",
       "<style scoped>\n",
       "    .dataframe tbody tr th:only-of-type {\n",
       "        vertical-align: middle;\n",
       "    }\n",
       "\n",
       "    .dataframe tbody tr th {\n",
       "        vertical-align: top;\n",
       "    }\n",
       "\n",
       "    .dataframe thead th {\n",
       "        text-align: right;\n",
       "    }\n",
       "</style>\n",
       "<table border=\"1\" class=\"dataframe\">\n",
       "  <thead>\n",
       "    <tr style=\"text-align: right;\">\n",
       "      <th></th>\n",
       "      <th>Survived</th>\n",
       "      <th>Pclass</th>\n",
       "      <th>Age</th>\n",
       "      <th>SibSp</th>\n",
       "      <th>Parch</th>\n",
       "      <th>Fare</th>\n",
       "      <th>Sex_female</th>\n",
       "      <th>Sex_male</th>\n",
       "      <th>Embarked_C</th>\n",
       "      <th>Embarked_Q</th>\n",
       "      <th>Embarked_S</th>\n",
       "    </tr>\n",
       "  </thead>\n",
       "  <tbody>\n",
       "    <tr>\n",
       "      <th>0</th>\n",
       "      <td>0</td>\n",
       "      <td>3</td>\n",
       "      <td>22.00000</td>\n",
       "      <td>1</td>\n",
       "      <td>0</td>\n",
       "      <td>7.2500</td>\n",
       "      <td>0</td>\n",
       "      <td>1</td>\n",
       "      <td>0</td>\n",
       "      <td>0</td>\n",
       "      <td>1</td>\n",
       "    </tr>\n",
       "    <tr>\n",
       "      <th>1</th>\n",
       "      <td>1</td>\n",
       "      <td>1</td>\n",
       "      <td>38.00000</td>\n",
       "      <td>1</td>\n",
       "      <td>0</td>\n",
       "      <td>71.2833</td>\n",
       "      <td>1</td>\n",
       "      <td>0</td>\n",
       "      <td>1</td>\n",
       "      <td>0</td>\n",
       "      <td>0</td>\n",
       "    </tr>\n",
       "    <tr>\n",
       "      <th>2</th>\n",
       "      <td>1</td>\n",
       "      <td>3</td>\n",
       "      <td>26.00000</td>\n",
       "      <td>0</td>\n",
       "      <td>0</td>\n",
       "      <td>7.9250</td>\n",
       "      <td>1</td>\n",
       "      <td>0</td>\n",
       "      <td>0</td>\n",
       "      <td>0</td>\n",
       "      <td>1</td>\n",
       "    </tr>\n",
       "    <tr>\n",
       "      <th>3</th>\n",
       "      <td>1</td>\n",
       "      <td>1</td>\n",
       "      <td>35.00000</td>\n",
       "      <td>1</td>\n",
       "      <td>0</td>\n",
       "      <td>53.1000</td>\n",
       "      <td>1</td>\n",
       "      <td>0</td>\n",
       "      <td>0</td>\n",
       "      <td>0</td>\n",
       "      <td>1</td>\n",
       "    </tr>\n",
       "    <tr>\n",
       "      <th>4</th>\n",
       "      <td>0</td>\n",
       "      <td>3</td>\n",
       "      <td>35.00000</td>\n",
       "      <td>0</td>\n",
       "      <td>0</td>\n",
       "      <td>8.0500</td>\n",
       "      <td>0</td>\n",
       "      <td>1</td>\n",
       "      <td>0</td>\n",
       "      <td>0</td>\n",
       "      <td>1</td>\n",
       "    </tr>\n",
       "    <tr>\n",
       "      <th>...</th>\n",
       "      <td>...</td>\n",
       "      <td>...</td>\n",
       "      <td>...</td>\n",
       "      <td>...</td>\n",
       "      <td>...</td>\n",
       "      <td>...</td>\n",
       "      <td>...</td>\n",
       "      <td>...</td>\n",
       "      <td>...</td>\n",
       "      <td>...</td>\n",
       "      <td>...</td>\n",
       "    </tr>\n",
       "    <tr>\n",
       "      <th>886</th>\n",
       "      <td>0</td>\n",
       "      <td>2</td>\n",
       "      <td>27.00000</td>\n",
       "      <td>0</td>\n",
       "      <td>0</td>\n",
       "      <td>13.0000</td>\n",
       "      <td>0</td>\n",
       "      <td>1</td>\n",
       "      <td>0</td>\n",
       "      <td>0</td>\n",
       "      <td>1</td>\n",
       "    </tr>\n",
       "    <tr>\n",
       "      <th>887</th>\n",
       "      <td>1</td>\n",
       "      <td>1</td>\n",
       "      <td>19.00000</td>\n",
       "      <td>0</td>\n",
       "      <td>0</td>\n",
       "      <td>30.0000</td>\n",
       "      <td>1</td>\n",
       "      <td>0</td>\n",
       "      <td>0</td>\n",
       "      <td>0</td>\n",
       "      <td>1</td>\n",
       "    </tr>\n",
       "    <tr>\n",
       "      <th>888</th>\n",
       "      <td>0</td>\n",
       "      <td>3</td>\n",
       "      <td>25.14062</td>\n",
       "      <td>1</td>\n",
       "      <td>2</td>\n",
       "      <td>23.4500</td>\n",
       "      <td>1</td>\n",
       "      <td>0</td>\n",
       "      <td>0</td>\n",
       "      <td>0</td>\n",
       "      <td>1</td>\n",
       "    </tr>\n",
       "    <tr>\n",
       "      <th>889</th>\n",
       "      <td>1</td>\n",
       "      <td>1</td>\n",
       "      <td>26.00000</td>\n",
       "      <td>0</td>\n",
       "      <td>0</td>\n",
       "      <td>30.0000</td>\n",
       "      <td>0</td>\n",
       "      <td>1</td>\n",
       "      <td>1</td>\n",
       "      <td>0</td>\n",
       "      <td>0</td>\n",
       "    </tr>\n",
       "    <tr>\n",
       "      <th>890</th>\n",
       "      <td>0</td>\n",
       "      <td>3</td>\n",
       "      <td>32.00000</td>\n",
       "      <td>0</td>\n",
       "      <td>0</td>\n",
       "      <td>7.7500</td>\n",
       "      <td>0</td>\n",
       "      <td>1</td>\n",
       "      <td>0</td>\n",
       "      <td>1</td>\n",
       "      <td>0</td>\n",
       "    </tr>\n",
       "  </tbody>\n",
       "</table>\n",
       "<p>889 rows × 11 columns</p>\n",
       "</div>"
      ],
      "text/plain": [
       "     Survived  Pclass       Age  SibSp  Parch     Fare  Sex_female  Sex_male  \\\n",
       "0           0       3  22.00000      1      0   7.2500           0         1   \n",
       "1           1       1  38.00000      1      0  71.2833           1         0   \n",
       "2           1       3  26.00000      0      0   7.9250           1         0   \n",
       "3           1       1  35.00000      1      0  53.1000           1         0   \n",
       "4           0       3  35.00000      0      0   8.0500           0         1   \n",
       "..        ...     ...       ...    ...    ...      ...         ...       ...   \n",
       "886         0       2  27.00000      0      0  13.0000           0         1   \n",
       "887         1       1  19.00000      0      0  30.0000           1         0   \n",
       "888         0       3  25.14062      1      2  23.4500           1         0   \n",
       "889         1       1  26.00000      0      0  30.0000           0         1   \n",
       "890         0       3  32.00000      0      0   7.7500           0         1   \n",
       "\n",
       "     Embarked_C  Embarked_Q  Embarked_S  \n",
       "0             0           0           1  \n",
       "1             1           0           0  \n",
       "2             0           0           1  \n",
       "3             0           0           1  \n",
       "4             0           0           1  \n",
       "..          ...         ...         ...  \n",
       "886           0           0           1  \n",
       "887           0           0           1  \n",
       "888           0           0           1  \n",
       "889           1           0           0  \n",
       "890           0           1           0  \n",
       "\n",
       "[889 rows x 11 columns]"
      ]
     },
     "execution_count": 171,
     "metadata": {},
     "output_type": "execute_result"
    }
   ],
   "source": [
    "df_train_dummied"
   ]
  },
  {
   "cell_type": "code",
   "execution_count": 172,
   "id": "21d9c6f0",
   "metadata": {},
   "outputs": [
    {
     "data": {
      "text/plain": [
       "<AxesSubplot:>"
      ]
     },
     "execution_count": 172,
     "metadata": {},
     "output_type": "execute_result"
    },
    {
     "data": {
      "image/png": "[encoded data removed]",
      "text/plain": [
       "<Figure size 432x288 with 2 Axes>"
      ]
     },
     "metadata": {
      "needs_background": "light"
     },
     "output_type": "display_data"
    }
   ],
   "source": [
    "sns.heatmap(df_train_dummied.corr())"
   ]
  },
  {
   "cell_type": "code",
   "execution_count": 177,
   "id": "d816f86b",
   "metadata": {},
   "outputs": [],
   "source": [
    "used_features = [\"Pclass\",\"Age\",\"SibSp\",\"Parch\",\"Sex_female\",\"Sex_male\",\"Embarked_C\",\"Embarked_Q\",\"Embarked_S\"]"
   ]
  },
  {
   "cell_type": "code",
   "execution_count": 187,
   "id": "a430fffa",
   "metadata": {},
   "outputs": [],
   "source": [
    "X = df_train_dummied[used_features]"
   ]
  },
  {
   "cell_type": "code",
   "execution_count": 188,
   "id": "793e9297",
   "metadata": {},
   "outputs": [
    {
     "data": {
      "text/html": [
       "<div>\n",
       "<style scoped>\n",
       "    .dataframe tbody tr th:only-of-type {\n",
       "        vertical-align: middle;\n",
       "    }\n",
       "\n",
       "    .dataframe tbody tr th {\n",
       "        vertical-align: top;\n",
       "    }\n",
       "\n",
       "    .dataframe thead th {\n",
       "        text-align: right;\n",
       "    }\n",
       "</style>\n",
       "<table border=\"1\" class=\"dataframe\">\n",
       "  <thead>\n",
       "    <tr style=\"text-align: right;\">\n",
       "      <th></th>\n",
       "      <th>Pclass</th>\n",
       "      <th>Age</th>\n",
       "      <th>SibSp</th>\n",
       "      <th>Parch</th>\n",
       "      <th>Sex_female</th>\n",
       "      <th>Sex_male</th>\n",
       "      <th>Embarked_C</th>\n",
       "      <th>Embarked_Q</th>\n",
       "      <th>Embarked_S</th>\n",
       "    </tr>\n",
       "  </thead>\n",
       "  <tbody>\n",
       "    <tr>\n",
       "      <th>0</th>\n",
       "      <td>3</td>\n",
       "      <td>22.00000</td>\n",
       "      <td>1</td>\n",
       "      <td>0</td>\n",
       "      <td>0</td>\n",
       "      <td>1</td>\n",
       "      <td>0</td>\n",
       "      <td>0</td>\n",
       "      <td>1</td>\n",
       "    </tr>\n",
       "    <tr>\n",
       "      <th>1</th>\n",
       "      <td>1</td>\n",
       "      <td>38.00000</td>\n",
       "      <td>1</td>\n",
       "      <td>0</td>\n",
       "      <td>1</td>\n",
       "      <td>0</td>\n",
       "      <td>1</td>\n",
       "      <td>0</td>\n",
       "      <td>0</td>\n",
       "    </tr>\n",
       "    <tr>\n",
       "      <th>2</th>\n",
       "      <td>3</td>\n",
       "      <td>26.00000</td>\n",
       "      <td>0</td>\n",
       "      <td>0</td>\n",
       "      <td>1</td>\n",
       "      <td>0</td>\n",
       "      <td>0</td>\n",
       "      <td>0</td>\n",
       "      <td>1</td>\n",
       "    </tr>\n",
       "    <tr>\n",
       "      <th>3</th>\n",
       "      <td>1</td>\n",
       "      <td>35.00000</td>\n",
       "      <td>1</td>\n",
       "      <td>0</td>\n",
       "      <td>1</td>\n",
       "      <td>0</td>\n",
       "      <td>0</td>\n",
       "      <td>0</td>\n",
       "      <td>1</td>\n",
       "    </tr>\n",
       "    <tr>\n",
       "      <th>4</th>\n",
       "      <td>3</td>\n",
       "      <td>35.00000</td>\n",
       "      <td>0</td>\n",
       "      <td>0</td>\n",
       "      <td>0</td>\n",
       "      <td>1</td>\n",
       "      <td>0</td>\n",
       "      <td>0</td>\n",
       "      <td>1</td>\n",
       "    </tr>\n",
       "    <tr>\n",
       "      <th>...</th>\n",
       "      <td>...</td>\n",
       "      <td>...</td>\n",
       "      <td>...</td>\n",
       "      <td>...</td>\n",
       "      <td>...</td>\n",
       "      <td>...</td>\n",
       "      <td>...</td>\n",
       "      <td>...</td>\n",
       "      <td>...</td>\n",
       "    </tr>\n",
       "    <tr>\n",
       "      <th>886</th>\n",
       "      <td>2</td>\n",
       "      <td>27.00000</td>\n",
       "      <td>0</td>\n",
       "      <td>0</td>\n",
       "      <td>0</td>\n",
       "      <td>1</td>\n",
       "      <td>0</td>\n",
       "      <td>0</td>\n",
       "      <td>1</td>\n",
       "    </tr>\n",
       "    <tr>\n",
       "      <th>887</th>\n",
       "      <td>1</td>\n",
       "      <td>19.00000</td>\n",
       "      <td>0</td>\n",
       "      <td>0</td>\n",
       "      <td>1</td>\n",
       "      <td>0</td>\n",
       "      <td>0</td>\n",
       "      <td>0</td>\n",
       "      <td>1</td>\n",
       "    </tr>\n",
       "    <tr>\n",
       "      <th>888</th>\n",
       "      <td>3</td>\n",
       "      <td>25.14062</td>\n",
       "      <td>1</td>\n",
       "      <td>2</td>\n",
       "      <td>1</td>\n",
       "      <td>0</td>\n",
       "      <td>0</td>\n",
       "      <td>0</td>\n",
       "      <td>1</td>\n",
       "    </tr>\n",
       "    <tr>\n",
       "      <th>889</th>\n",
       "      <td>1</td>\n",
       "      <td>26.00000</td>\n",
       "      <td>0</td>\n",
       "      <td>0</td>\n",
       "      <td>0</td>\n",
       "      <td>1</td>\n",
       "      <td>1</td>\n",
       "      <td>0</td>\n",
       "      <td>0</td>\n",
       "    </tr>\n",
       "    <tr>\n",
       "      <th>890</th>\n",
       "      <td>3</td>\n",
       "      <td>32.00000</td>\n",
       "      <td>0</td>\n",
       "      <td>0</td>\n",
       "      <td>0</td>\n",
       "      <td>1</td>\n",
       "      <td>0</td>\n",
       "      <td>1</td>\n",
       "      <td>0</td>\n",
       "    </tr>\n",
       "  </tbody>\n",
       "</table>\n",
       "<p>889 rows × 9 columns</p>\n",
       "</div>"
      ],
      "text/plain": [
       "     Pclass       Age  SibSp  Parch  Sex_female  Sex_male  Embarked_C  \\\n",
       "0         3  22.00000      1      0           0         1           0   \n",
       "1         1  38.00000      1      0           1         0           1   \n",
       "2         3  26.00000      0      0           1         0           0   \n",
       "3         1  35.00000      1      0           1         0           0   \n",
       "4         3  35.00000      0      0           0         1           0   \n",
       "..      ...       ...    ...    ...         ...       ...         ...   \n",
       "886       2  27.00000      0      0           0         1           0   \n",
       "887       1  19.00000      0      0           1         0           0   \n",
       "888       3  25.14062      1      2           1         0           0   \n",
       "889       1  26.00000      0      0           0         1           1   \n",
       "890       3  32.00000      0      0           0         1           0   \n",
       "\n",
       "     Embarked_Q  Embarked_S  \n",
       "0             0           1  \n",
       "1             0           0  \n",
       "2             0           1  \n",
       "3             0           1  \n",
       "4             0           1  \n",
       "..          ...         ...  \n",
       "886           0           1  \n",
       "887           0           1  \n",
       "888           0           1  \n",
       "889           0           0  \n",
       "890           1           0  \n",
       "\n",
       "[889 rows x 9 columns]"
      ]
     },
     "execution_count": 188,
     "metadata": {},
     "output_type": "execute_result"
    }
   ],
   "source": [
    "X"
   ]
  },
  {
   "cell_type": "code",
   "execution_count": 189,
   "id": "e39fce2d",
   "metadata": {},
   "outputs": [],
   "source": [
    "y = df_train_dummied['Survived']"
   ]
  },
  {
   "cell_type": "code",
   "execution_count": 190,
   "id": "b15bc0c3",
   "metadata": {},
   "outputs": [
    {
     "data": {
      "text/plain": [
       "0      0\n",
       "1      1\n",
       "2      1\n",
       "3      1\n",
       "4      0\n",
       "      ..\n",
       "886    0\n",
       "887    1\n",
       "888    0\n",
       "889    1\n",
       "890    0\n",
       "Name: Survived, Length: 889, dtype: int64"
      ]
     },
     "execution_count": 190,
     "metadata": {},
     "output_type": "execute_result"
    }
   ],
   "source": [
    "y"
   ]
  },
  {
   "cell_type": "code",
   "execution_count": 197,
   "id": "aa073c72",
   "metadata": {},
   "outputs": [],
   "source": [
    "X_train,X_test,y_train,y_test = train_test_split(X, y, test_size=0.3, random_state=1)"
   ]
  },
  {
   "cell_type": "code",
   "execution_count": 198,
   "id": "46e504ed",
   "metadata": {},
   "outputs": [
    {
     "name": "stdout",
     "output_type": "stream",
     "text": [
      "(622, 9)\n",
      "(267, 9)\n",
      "(622,)\n",
      "(267,)\n"
     ]
    }
   ],
   "source": [
    "print(X_train.shape)\n",
    "print(X_test.shape)\n",
    "print(y_train.shape)\n",
    "print(y_test.shape)"
   ]
  },
  {
   "cell_type": "code",
   "execution_count": 199,
   "id": "643f72ed",
   "metadata": {},
   "outputs": [],
   "source": [
    "Lin_M_1 = LogisticRegression()"
   ]
  },
  {
   "cell_type": "code",
   "execution_count": 200,
   "id": "7114b459",
   "metadata": {},
   "outputs": [
    {
     "data": {
      "text/plain": [
       "LogisticRegression()"
      ]
     },
     "execution_count": 200,
     "metadata": {},
     "output_type": "execute_result"
    }
   ],
   "source": [
    "Lin_M_1.fit(X_train,y_train)"
   ]
  },
  {
   "cell_type": "code",
   "execution_count": 207,
   "id": "95a23e24",
   "metadata": {},
   "outputs": [],
   "source": [
    "Predict_1 = Lin_M_1.predict(X_test)"
   ]
  },
  {
   "cell_type": "code",
   "execution_count": 208,
   "id": "5e201ffe",
   "metadata": {},
   "outputs": [
    {
     "data": {
      "text/plain": [
       "array([[143,  23],\n",
       "       [ 20,  81]], dtype=int64)"
      ]
     },
     "execution_count": 208,
     "metadata": {},
     "output_type": "execute_result"
    }
   ],
   "source": [
    "metrics.confusion_matrix(y_test,Predict_1)"
   ]
  },
  {
   "cell_type": "code",
   "execution_count": 209,
   "id": "ffece895",
   "metadata": {},
   "outputs": [
    {
     "data": {
      "text/plain": [
       "0    166\n",
       "1    101\n",
       "Name: Survived, dtype: int64"
      ]
     },
     "execution_count": 209,
     "metadata": {},
     "output_type": "execute_result"
    }
   ],
   "source": [
    "y_test.value_counts()"
   ]
  },
  {
   "cell_type": "code",
   "execution_count": 215,
   "id": "e4de313e",
   "metadata": {},
   "outputs": [
    {
     "data": {
      "text/plain": [
       "array([163, 104], dtype=int64)"
      ]
     },
     "execution_count": 215,
     "metadata": {},
     "output_type": "execute_result"
    }
   ],
   "source": [
    "np.unique(Predict_1, return_counts=True)[1]"
   ]
  },
  {
   "cell_type": "code",
   "execution_count": 216,
   "id": "3d066afc",
   "metadata": {},
   "outputs": [
    {
     "data": {
      "text/plain": [
       "0.8389513108614233"
      ]
     },
     "execution_count": 216,
     "metadata": {},
     "output_type": "execute_result"
    }
   ],
   "source": [
    "metrics.accuracy_score(y_test,Predict_1)"
   ]
  },
  {
   "cell_type": "code",
   "execution_count": 218,
   "id": "cf30b83b",
   "metadata": {},
   "outputs": [
    {
     "name": "stdout",
     "output_type": "stream",
     "text": [
      "              precision    recall  f1-score   support\n",
      "\n",
      "           0       0.88      0.86      0.87       166\n",
      "           1       0.78      0.80      0.79       101\n",
      "\n",
      "    accuracy                           0.84       267\n",
      "   macro avg       0.83      0.83      0.83       267\n",
      "weighted avg       0.84      0.84      0.84       267\n",
      "\n"
     ]
    }
   ],
   "source": [
    "print(classification_report(y_test,Predict_1))"
   ]
  },
  {
   "cell_type": "code",
   "execution_count": 220,
   "id": "ddf462d7",
   "metadata": {},
   "outputs": [
    {
     "data": {
      "text/plain": [
       "array([[0.26468723, 0.73531277],\n",
       "       [0.39806176, 0.60193824],\n",
       "       [0.94756151, 0.05243849],\n",
       "       [0.25311958, 0.74688042],\n",
       "       [0.94409587, 0.05590413],\n",
       "       [0.13447943, 0.86552057],\n",
       "       [0.33068485, 0.66931515],\n",
       "       [0.5185017 , 0.4814983 ],\n",
       "       [0.77915075, 0.22084925],\n",
       "       [0.40568973, 0.59431027],\n",
       "       [0.7405154 , 0.2594846 ],\n",
       "       [0.20912852, 0.79087148],\n",
       "       [0.75359986, 0.24640014],\n",
       "       [0.14382788, 0.85617212],\n",
       "       [0.86337426, 0.13662574],\n",
       "       [0.36738514, 0.63261486],\n",
       "       [0.89337269, 0.10662731],\n",
       "       [0.2973166 , 0.7026834 ],\n",
       "       [0.17646949, 0.82353051],\n",
       "       [0.39525022, 0.60474978],\n",
       "       [0.90445182, 0.09554818],\n",
       "       [0.55029376, 0.44970624],\n",
       "       [0.86436533, 0.13563467],\n",
       "       [0.93734224, 0.06265776],\n",
       "       [0.51444841, 0.48555159],\n",
       "       [0.5156679 , 0.4843321 ],\n",
       "       [0.03848453, 0.96151547],\n",
       "       [0.86807133, 0.13192867],\n",
       "       [0.90156895, 0.09843105],\n",
       "       [0.32900807, 0.67099193],\n",
       "       [0.39734498, 0.60265502],\n",
       "       [0.40451311, 0.59548689],\n",
       "       [0.1533312 , 0.8466688 ],\n",
       "       [0.41101681, 0.58898319],\n",
       "       [0.6014546 , 0.3985454 ],\n",
       "       [0.16411958, 0.83588042],\n",
       "       [0.65619033, 0.34380967],\n",
       "       [0.8776663 , 0.1223337 ],\n",
       "       [0.24248372, 0.75751628],\n",
       "       [0.57501035, 0.42498965],\n",
       "       [0.4362312 , 0.5637688 ],\n",
       "       [0.91189094, 0.08810906],\n",
       "       [0.31244046, 0.68755954],\n",
       "       [0.8776663 , 0.1223337 ],\n",
       "       [0.79769106, 0.20230894],\n",
       "       [0.23444407, 0.76555593],\n",
       "       [0.17067342, 0.82932658],\n",
       "       [0.81555771, 0.18444229],\n",
       "       [0.05993215, 0.94006785],\n",
       "       [0.9234488 , 0.0765512 ],\n",
       "       [0.8776663 , 0.1223337 ],\n",
       "       [0.43633904, 0.56366096],\n",
       "       [0.88092988, 0.11907012],\n",
       "       [0.09044332, 0.90955668],\n",
       "       [0.74695547, 0.25304453],\n",
       "       [0.06984683, 0.93015317],\n",
       "       [0.7762731 , 0.2237269 ],\n",
       "       [0.95199068, 0.04800932],\n",
       "       [0.6984616 , 0.3015384 ],\n",
       "       [0.93967449, 0.06032551],\n",
       "       [0.81655121, 0.18344879],\n",
       "       [0.85853722, 0.14146278],\n",
       "       [0.6014546 , 0.3985454 ],\n",
       "       [0.8776663 , 0.1223337 ],\n",
       "       [0.43633904, 0.56366096],\n",
       "       [0.23513851, 0.76486149],\n",
       "       [0.8776663 , 0.1223337 ],\n",
       "       [0.91121146, 0.08878854],\n",
       "       [0.84481565, 0.15518435],\n",
       "       [0.05355968, 0.94644032],\n",
       "       [0.86609613, 0.13390387],\n",
       "       [0.05564543, 0.94435457],\n",
       "       [0.65336256, 0.34663744],\n",
       "       [0.85853722, 0.14146278],\n",
       "       [0.31447297, 0.68552703],\n",
       "       [0.13447943, 0.86552057],\n",
       "       [0.8421588 , 0.1578412 ],\n",
       "       [0.92357659, 0.07642341],\n",
       "       [0.83057149, 0.16942851],\n",
       "       [0.83310074, 0.16689926],\n",
       "       [0.8421588 , 0.1578412 ],\n",
       "       [0.86337426, 0.13662574],\n",
       "       [0.03848453, 0.96151547],\n",
       "       [0.05918832, 0.94081168],\n",
       "       [0.76192442, 0.23807558],\n",
       "       [0.61843608, 0.38156392],\n",
       "       [0.44419787, 0.55580213],\n",
       "       [0.42462393, 0.57537607],\n",
       "       [0.8776663 , 0.1223337 ],\n",
       "       [0.36738514, 0.63261486],\n",
       "       [0.89723558, 0.10276442],\n",
       "       [0.32900807, 0.67099193],\n",
       "       [0.9342327 , 0.0657673 ],\n",
       "       [0.7863312 , 0.2136688 ],\n",
       "       [0.25273034, 0.74726966],\n",
       "       [0.83888872, 0.16111128],\n",
       "       [0.22610909, 0.77389091],\n",
       "       [0.27375313, 0.72624687],\n",
       "       [0.25273034, 0.74726966],\n",
       "       [0.21338953, 0.78661047],\n",
       "       [0.84843441, 0.15156559],\n",
       "       [0.34015053, 0.65984947],\n",
       "       [0.61072048, 0.38927952],\n",
       "       [0.85355797, 0.14644203],\n",
       "       [0.85355797, 0.14644203],\n",
       "       [0.90525183, 0.09474817],\n",
       "       [0.13654003, 0.86345997],\n",
       "       [0.84843441, 0.15156559],\n",
       "       [0.76423502, 0.23576498],\n",
       "       [0.81555771, 0.18444229],\n",
       "       [0.63773425, 0.36226575],\n",
       "       [0.75359986, 0.24640014],\n",
       "       [0.7863312 , 0.2136688 ],\n",
       "       [0.18333995, 0.81666005],\n",
       "       [0.360458  , 0.639542  ],\n",
       "       [0.08567715, 0.91432285],\n",
       "       [0.91531079, 0.08468921],\n",
       "       [0.40568973, 0.59431027],\n",
       "       [0.06641635, 0.93358365],\n",
       "       [0.78999535, 0.21000465],\n",
       "       [0.87705489, 0.12294511],\n",
       "       [0.20310854, 0.79689146],\n",
       "       [0.32900807, 0.67099193],\n",
       "       [0.49950024, 0.50049976],\n",
       "       [0.20840944, 0.79159056],\n",
       "       [0.89151061, 0.10848939],\n",
       "       [0.43969496, 0.56030504],\n",
       "       [0.90898179, 0.09101821],\n",
       "       [0.88134626, 0.11865374],\n",
       "       [0.58873165, 0.41126835],\n",
       "       [0.45703776, 0.54296224],\n",
       "       [0.61072048, 0.38927952],\n",
       "       [0.87791252, 0.12208748],\n",
       "       [0.6014546 , 0.3985454 ],\n",
       "       [0.36738514, 0.63261486],\n",
       "       [0.06983077, 0.93016923],\n",
       "       [0.85853722, 0.14146278],\n",
       "       [0.92625697, 0.07374303],\n",
       "       [0.8776663 , 0.1223337 ],\n",
       "       [0.8895409 , 0.1104591 ],\n",
       "       [0.85933914, 0.14066086],\n",
       "       [0.31486309, 0.68513691],\n",
       "       [0.9234488 , 0.0765512 ],\n",
       "       [0.38679062, 0.61320938],\n",
       "       [0.6014546 , 0.3985454 ],\n",
       "       [0.69009785, 0.30990215],\n",
       "       [0.17672164, 0.82327836],\n",
       "       [0.10667722, 0.89332278],\n",
       "       [0.07799743, 0.92200257],\n",
       "       [0.92834709, 0.07165291],\n",
       "       [0.85306033, 0.14693967],\n",
       "       [0.93656501, 0.06343499],\n",
       "       [0.14079173, 0.85920827],\n",
       "       [0.84843441, 0.15156559],\n",
       "       [0.37568034, 0.62431966],\n",
       "       [0.36738514, 0.63261486],\n",
       "       [0.79109127, 0.20890873],\n",
       "       [0.36960504, 0.63039496],\n",
       "       [0.8895409 , 0.1104591 ],\n",
       "       [0.8776663 , 0.1223337 ],\n",
       "       [0.49950024, 0.50049976],\n",
       "       [0.76917679, 0.23082321],\n",
       "       [0.58873165, 0.41126835],\n",
       "       [0.87198731, 0.12801269],\n",
       "       [0.87336455, 0.12663545],\n",
       "       [0.83217844, 0.16782156],\n",
       "       [0.13675345, 0.86324655],\n",
       "       [0.05875931, 0.94124069],\n",
       "       [0.77690083, 0.22309917],\n",
       "       [0.23550851, 0.76449149],\n",
       "       [0.84843441, 0.15156559],\n",
       "       [0.89827725, 0.10172275],\n",
       "       [0.8421588 , 0.1578412 ],\n",
       "       [0.87263073, 0.12736927],\n",
       "       [0.67514201, 0.32485799],\n",
       "       [0.2865868 , 0.7134132 ],\n",
       "       [0.86337426, 0.13662574],\n",
       "       [0.70690353, 0.29309647],\n",
       "       [0.8776663 , 0.1223337 ],\n",
       "       [0.84843441, 0.15156559],\n",
       "       [0.8421588 , 0.1578412 ],\n",
       "       [0.8776663 , 0.1223337 ],\n",
       "       [0.65195772, 0.34804228],\n",
       "       [0.93218049, 0.06781951],\n",
       "       [0.32900807, 0.67099193],\n",
       "       [0.83514262, 0.16485738],\n",
       "       [0.384993  , 0.615007  ],\n",
       "       [0.57963551, 0.42036449],\n",
       "       [0.22875276, 0.77124724],\n",
       "       [0.90445182, 0.09554818],\n",
       "       [0.75607453, 0.24392547],\n",
       "       [0.71691894, 0.28308106],\n",
       "       [0.86337426, 0.13662574],\n",
       "       [0.76225242, 0.23774758],\n",
       "       [0.93679426, 0.06320574],\n",
       "       [0.74820442, 0.25179558],\n",
       "       [0.89811183, 0.10188817],\n",
       "       [0.29105167, 0.70894833],\n",
       "       [0.6014546 , 0.3985454 ],\n",
       "       [0.0648999 , 0.9351001 ],\n",
       "       [0.69782277, 0.30217723],\n",
       "       [0.18143407, 0.81856593],\n",
       "       [0.77547975, 0.22452025],\n",
       "       [0.54299849, 0.45700151],\n",
       "       [0.04677967, 0.95322033],\n",
       "       [0.8895409 , 0.1104591 ],\n",
       "       [0.87485956, 0.12514044],\n",
       "       [0.3250954 , 0.6749046 ],\n",
       "       [0.80825356, 0.19174644],\n",
       "       [0.08717366, 0.91282634],\n",
       "       [0.8421588 , 0.1578412 ],\n",
       "       [0.73924161, 0.26075839],\n",
       "       [0.7863312 , 0.2136688 ],\n",
       "       [0.76423502, 0.23576498],\n",
       "       [0.30377381, 0.69622619],\n",
       "       [0.19539022, 0.80460978],\n",
       "       [0.75451691, 0.24548309],\n",
       "       [0.19006219, 0.80993781],\n",
       "       [0.91442693, 0.08557307],\n",
       "       [0.69168334, 0.30831666],\n",
       "       [0.87198731, 0.12801269],\n",
       "       [0.49740089, 0.50259911],\n",
       "       [0.66768738, 0.33231262],\n",
       "       [0.22025099, 0.77974901],\n",
       "       [0.24210622, 0.75789378],\n",
       "       [0.86337426, 0.13662574],\n",
       "       [0.56908389, 0.43091611],\n",
       "       [0.8421588 , 0.1578412 ],\n",
       "       [0.78537493, 0.21462507],\n",
       "       [0.74734392, 0.25265608],\n",
       "       [0.384993  , 0.615007  ],\n",
       "       [0.30156917, 0.69843083],\n",
       "       [0.4781783 , 0.5218217 ],\n",
       "       [0.8421588 , 0.1578412 ],\n",
       "       [0.89723558, 0.10276442],\n",
       "       [0.88971853, 0.11028147],\n",
       "       [0.8776663 , 0.1223337 ],\n",
       "       [0.79753863, 0.20246137],\n",
       "       [0.34713454, 0.65286546],\n",
       "       [0.87705489, 0.12294511],\n",
       "       [0.2973166 , 0.7026834 ],\n",
       "       [0.8421588 , 0.1578412 ],\n",
       "       [0.84843441, 0.15156559],\n",
       "       [0.66808865, 0.33191135],\n",
       "       [0.51663319, 0.48336681],\n",
       "       [0.09631352, 0.90368648],\n",
       "       [0.13057093, 0.86942907],\n",
       "       [0.79827431, 0.20172569],\n",
       "       [0.69129741, 0.30870259],\n",
       "       [0.87283166, 0.12716834],\n",
       "       [0.24336825, 0.75663175],\n",
       "       [0.32900807, 0.67099193],\n",
       "       [0.39598507, 0.60401493],\n",
       "       [0.94131417, 0.05868583],\n",
       "       [0.10849701, 0.89150299],\n",
       "       [0.22276687, 0.77723313],\n",
       "       [0.88134626, 0.11865374],\n",
       "       [0.90445182, 0.09554818],\n",
       "       [0.038637  , 0.961363  ],\n",
       "       [0.7863312 , 0.2136688 ],\n",
       "       [0.20013786, 0.79986214],\n",
       "       [0.87114874, 0.12885126],\n",
       "       [0.65665407, 0.34334593],\n",
       "       [0.8776663 , 0.1223337 ],\n",
       "       [0.30156917, 0.69843083],\n",
       "       [0.8421588 , 0.1578412 ],\n",
       "       [0.91168937, 0.08831063]])"
      ]
     },
     "execution_count": 220,
     "metadata": {},
     "output_type": "execute_result"
    }
   ],
   "source": [
    "Lin_M_1.predict_proba(X_test)"
   ]
  },
  {
   "cell_type": "code",
   "execution_count": null,
   "id": "1ffa4213",
   "metadata": {},
   "outputs": [],
   "source": []
  }
 ],
 "metadata": {
  "kernelspec": {
   "display_name": "Python 3 (ipykernel)",
   "language": "python",
   "name": "python3"
  },
  "language_info": {
   "codemirror_mode": {
    "name": "ipython",
    "version": 3
   },
   "file_extension": ".py",
   "mimetype": "text/x-python",
   "name": "python",
   "nbconvert_exporter": "python",
   "pygments_lexer": "ipython3",
   "version": "3.10.1"
  }
 },
 "nbformat": 4,
 "nbformat_minor": 5
}
